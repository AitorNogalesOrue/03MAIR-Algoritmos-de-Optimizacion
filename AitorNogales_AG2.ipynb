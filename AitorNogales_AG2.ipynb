{
  "nbformat": 4,
  "nbformat_minor": 0,
  "metadata": {
    "colab": {
      "name": "AitorNogales-AG2.ipynb",
      "provenance": [],
      "collapsed_sections": [],
      "toc_visible": true,
      "authorship_tag": "ABX9TyNyHHbLlILGjLZA1N2iOVEA",
      "include_colab_link": true
    },
    "kernelspec": {
      "name": "python3",
      "display_name": "Python 3"
    }
  },
  "cells": [
    {
      "cell_type": "markdown",
      "metadata": {
        "id": "view-in-github",
        "colab_type": "text"
      },
      "source": [
        "<a href=\"https://colab.research.google.com/github/Whanhoo/03MAIR-Algoritmos-de-Optimizacion/blob/main/AitorNogales_AG2.ipynb\" target=\"_parent\"><img src=\"https://colab.research.google.com/assets/colab-badge.svg\" alt=\"Open In Colab\"/></a>"
      ]
    },
    {
      "cell_type": "markdown",
      "metadata": {
        "id": "SS5FidHj1xZx"
      },
      "source": [
        "# Actividad guida 2 (AG1)\r\n",
        "\r\n",
        "Nombre: *Aitor Nogales Orue*\r\n",
        "\r\n",
        " URL: [https://colab.research.google.com/drive/1Zd-VvU1i4K435aj7792kgukGzq6pHxIB?usp=sharing](https://colab.research.google.com/drive/1Zd-VvU1i4K435aj7792kgukGzq6pHxIB?usp=sharing)\r\n",
        "\r\n",
        " GitHub: [https://github.com/Whanhoo/03MAIR-Algoritmos-de-Optimizacion.git](https://github.com/Whanhoo/03MAIR-Algoritmos-de-Optimizacion.git)"
      ]
    },
    {
      "cell_type": "code",
      "metadata": {
        "id": "lBVguXSx2TsR"
      },
      "source": [
        "import math\r\n",
        "import itertools"
      ],
      "execution_count": 2,
      "outputs": []
    },
    {
      "cell_type": "markdown",
      "metadata": {
        "id": "4Ts8EL5g2UOA"
      },
      "source": [
        "##Viaje por el rio\r\n",
        "programacion dinamica "
      ]
    },
    {
      "cell_type": "code",
      "metadata": {
        "colab": {
          "base_uri": "https://localhost:8080/",
          "height": 0
        },
        "id": "e1-iBKZA2X5A",
        "outputId": "0821aa27-e3a6-4482-9cd2-d2fecd94c392"
      },
      "source": [
        "tarifas = [\r\n",
        "[0,5,4,3,9999,9999,9999],      #desde nodo 0\r\n",
        "[9999,0,9999,2,3,9999,11],     #desde nodo 1\r\n",
        "[9999,9999, 0,1,9999,4,10],    #desde nodo 2\r\n",
        "[9999,9999,9999, 0,5,6,9],     #desde nodo 3\r\n",
        "[9999,9999, 9999,9999,0,9999,4], #desde nodo 4\r\n",
        "[9999,9999, 9999,9999,9999,0,3], #desde nodo 5\r\n",
        "[9999,9999,9999,9999,9999,9999,0] #desde nodo 6\r\n",
        "]\r\n",
        "def precios_descenso_rio(matriz_tarifas):\r\n",
        "\r\n",
        "  total_nodos = len(matriz_tarifas[0])\r\n",
        "\r\n",
        "  #Inicialización de la tabla de precios\r\n",
        "  precios = [ [9999]*total_nodos for i in [9999]*total_nodos]\r\n",
        "  ruta = [ [\"\"]*total_nodos for i in [\"\"]*total_nodos]\r\n",
        "  \r\n",
        "  for i in range(total_nodos-1):\r\n",
        "    for j in range(i+1, total_nodos):\r\n",
        "      minimo = matriz_tarifas[i][j]\r\n",
        "      ruta[i][j] = i\r\n",
        "      \r\n",
        "      for k in range(i, j):\r\n",
        "        if precios[i][k] + matriz_tarifas[k][j] < minimo:\r\n",
        "            minimo = min(minimo, precios[i][k] + matriz_tarifas[k][j] )\r\n",
        "            ruta[i][j] = k\r\n",
        "        precios[i][j] = minimo\r\n",
        "        \r\n",
        "  return precios,ruta\r\n",
        "\r\n",
        "PRECIOS,RUTA = precios_descenso_rio(tarifas)  \r\n",
        "print(PRECIOS[0][6])\r\n",
        "\r\n",
        "print(\"PRECIOS\")\r\n",
        "for i in range(len(tarifas)):\r\n",
        "  print(PRECIOS[i])\r\n",
        "\r\n",
        "print(\"\\nRUTA\")  \r\n",
        "for i in range(len(tarifas)):\r\n",
        "  print(RUTA[i]) \r\n",
        "\r\n",
        "def calcular_ruta(RUTA, desde, hasta):\r\n",
        "  if desde == hasta:\r\n",
        "    print(\"Ir a :\" + str(desde))\r\n",
        "    return desde \r\n",
        "  else:\r\n",
        "    return str(calcular_ruta(RUTA, desde, RUTA[desde][hasta])) +  ',' + str(RUTA[desde][hasta]) "
      ],
      "execution_count": 3,
      "outputs": [
        {
          "output_type": "stream",
          "text": [
            "11\n",
            "PRECIOS\n",
            "[9999, 5, 4, 3, 8, 8, 11]\n",
            "[9999, 9999, 9999, 2, 3, 8, 7]\n",
            "[9999, 9999, 9999, 1, 6, 4, 7]\n",
            "[9999, 9999, 9999, 9999, 5, 6, 9]\n",
            "[9999, 9999, 9999, 9999, 9999, 9999, 4]\n",
            "[9999, 9999, 9999, 9999, 9999, 9999, 3]\n",
            "[9999, 9999, 9999, 9999, 9999, 9999, 9999]\n",
            "\n",
            "RUTA\n",
            "['', 0, 0, 0, 1, 2, 5]\n",
            "['', '', 1, 1, 1, 3, 4]\n",
            "['', '', '', 2, 3, 2, 5]\n",
            "['', '', '', '', 3, 3, 3]\n",
            "['', '', '', '', '', 4, 4]\n",
            "['', '', '', '', '', '', 5]\n",
            "['', '', '', '', '', '', '']\n"
          ],
          "name": "stdout"
        }
      ]
    },
    {
      "cell_type": "markdown",
      "metadata": {
        "id": "TPWAmtXD90xQ"
      },
      "source": [
        "##Problema de Asignacion de tarea\r\n",
        "Ramificacion y poda "
      ]
    },
    {
      "cell_type": "code",
      "metadata": {
        "colab": {
          "base_uri": "https://localhost:8080/",
          "height": 0
        },
        "id": "-iw3-OCI-G9_",
        "outputId": "7d1d74cd-7eb3-40c1-f286-ec872a3be3a5"
      },
      "source": [
        "tabla_de_costes=[[11,12,18,40],\r\n",
        "                 [14,15,13,22],\r\n",
        "                 [11,17,19,23],\r\n",
        "                 [17,14,20,28]]\r\n",
        "\r\n",
        "def calcular_valor(solucion_parcial,tabla_coste):\r\n",
        "  valor = 0\r\n",
        "  for i in range(len(solucion_parcial)):\r\n",
        "    valor += tabla_coste[solucion_parcial[i]][i] \r\n",
        "  return valor\r\n",
        "  \r\n",
        "calcular_valor((0, 1, 2, 3),tabla_de_costes)\r\n",
        "\r\n",
        "def CI(S,COSTES):\r\n",
        "  VALOR = 0\r\n",
        "  #Valores establecidos\r\n",
        "  for i in range(len(S)):\r\n",
        "    VALOR += COSTES[i][S[i]]\r\n",
        "\r\n",
        "  #Estimacion\r\n",
        "  for i in range( len(S), len(COSTES)   ):\r\n",
        "    VALOR += min( [ COSTES[j][i] for j in range(len(S), len(COSTES))  ])\r\n",
        "  return VALOR\r\n",
        "\r\n",
        "def CS(S,COSTES):\r\n",
        "  VALOR = 0\r\n",
        "  #Valores establecidos\r\n",
        "  for i in range(len(S)):\r\n",
        "    VALOR += COSTES[i][S[i]]\r\n",
        "\r\n",
        "  #Estimacion\r\n",
        "  for i in range( len(S), len(COSTES)   ):\r\n",
        "    VALOR += max( [ COSTES[j][i] for j in range(len(S), len(COSTES))  ])\r\n",
        "  return VALOR\r\n",
        "\r\n",
        "CS((0,1),tabla_de_costes)\r\n",
        "\r\n",
        "def crear_hijos(NODO, N):\r\n",
        "  HIJOS = []\r\n",
        "  for i in range(N ):\r\n",
        "    if i not in NODO:\r\n",
        "      HIJOS.append({'s':NODO +(i,)    })\r\n",
        "  return HIJOS\r\n",
        "\r\n",
        "def ramificacion_y_poda(COSTES):\r\n",
        "\r\n",
        "  DIMENSION = len(COSTES)  \r\n",
        "  MEJOR_SOLUCION=tuple( i for i in range(len(COSTES)) )\r\n",
        "  CotaSup = calcular_valor(MEJOR_SOLUCION,COSTES)\r\n",
        "  #print(\"Cota Superior:\", CotaSup)\r\n",
        "\r\n",
        "  NODOS=[]\r\n",
        "  NODOS.append({'s':(), 'ci':CI((),COSTES)    } )\r\n",
        "\r\n",
        "  iteracion = 0\r\n",
        "\r\n",
        "  while( len(NODOS) > 0):\r\n",
        "    iteracion +=1\r\n",
        "\r\n",
        "    nodo_prometedor = [ min(NODOS, key=lambda x:x['ci']) ][0]['s']\r\n",
        "    #print(\"Nodo prometedor:\", nodo_prometedor)\r\n",
        "\r\n",
        "    #Ramificacion\r\n",
        "    #Se generan los hijos\r\n",
        "    HIJOS =[ {'s':x['s'], 'ci':CI(x['s'], COSTES)   } for x in crear_hijos(nodo_prometedor, DIMENSION) ]\r\n",
        "\r\n",
        "    #Revisamos la cota superior y nos quedamos con la mejor solucion si llegamos a una solucion final\r\n",
        "    NODO_FINAL = [x for x in HIJOS if len(x['s']) == DIMENSION  ]\r\n",
        "    if len(NODO_FINAL ) >0: \r\n",
        "      #print(\"\\n********Soluciones:\",  [x for x in HIJOS if len(x['s']) == DIMENSION  ] )\r\n",
        "      if NODO_FINAL[0]['ci'] < CotaSup:\r\n",
        "        CotaSup = NODO_FINAL[0]['ci']\r\n",
        "        MEJOR_SOLUCION = NODO_FINAL\r\n",
        " \r\n",
        "    #Poda\r\n",
        "    HIJOS = [x for x in HIJOS if x['ci'] < CotaSup   ]\r\n",
        "\r\n",
        "    #Añadimos los hijos \r\n",
        "    NODOS.extend(HIJOS) \r\n",
        "\r\n",
        "    #Eliminamos el nodo ramificado\r\n",
        "    NODOS =  [  x for x in NODOS if x['s'] != nodo_prometedor    ]\r\n",
        "   \r\n",
        "  print(\"La solucion final es:\" ,MEJOR_SOLUCION , \" en \" , iteracion , \" iteraciones\" , \" para dimension: \" ,DIMENSION  )\r\n",
        "      \r\n",
        "\r\n",
        "\r\n",
        "ramificacion_y_poda(tabla_de_costes)"
      ],
      "execution_count": 4,
      "outputs": [
        {
          "output_type": "stream",
          "text": [
            "La solucion final es: [{'s': (1, 2, 0, 3), 'ci': 64}]  en  10  iteraciones  para dimension:  4\n"
          ],
          "name": "stdout"
        }
      ]
    },
    {
      "cell_type": "code",
      "metadata": {
        "colab": {
          "base_uri": "https://localhost:8080/",
          "height": 0
        },
        "id": "msKUsPVzaTrR",
        "outputId": "958743c3-288d-46db-e2ae-cc8aa50c32cd"
      },
      "source": [
        "def fuerza_bruta(tabla_de_costes):\r\n",
        "  resultado=99999\r\n",
        "  solucion=()\r\n",
        "  for s in list(itertools.permutations(range(len(tabla_de_costes)))):\r\n",
        "    temp=calcular_valor(s,tabla_de_costes)\r\n",
        "    if temp<resultado:\r\n",
        "      resultado=temp\r\n",
        "      solucion=s\r\n",
        "  return resultado,solucion\r\n",
        "fuerza_bruta(tabla_de_costes)"
      ],
      "execution_count": 12,
      "outputs": [
        {
          "output_type": "execute_result",
          "data": {
            "text/plain": [
              "(61, (0, 3, 1, 2))"
            ]
          },
          "metadata": {
            "tags": []
          },
          "execution_count": 12
        }
      ]
    },
    {
      "cell_type": "markdown",
      "metadata": {
        "id": "WrKM_gHmfWmn"
      },
      "source": [
        "el algoritmo de fuerza bruta tiene una complejidad de O(!n)"
      ]
    },
    {
      "cell_type": "code",
      "metadata": {
        "colab": {
          "base_uri": "https://localhost:8080/",
          "height": 578
        },
        "id": "wNqmvY5SfS-v",
        "outputId": "adf94d71-2c61-4648-d487-49261183fbb8"
      },
      "source": [
        "import random\r\n",
        "def random_matriz_cuadrada(n):\r\n",
        "  matriz = [list(range(1 + n * i, 1 + n * (i + 1))) for i in range(n)]\r\n",
        "  for i in range(n):\r\n",
        "    for j in range(n):\r\n",
        "     matriz[i][j]= random.randint(0,20)\r\n",
        "  return matriz\r\n",
        "\r\n",
        "for i in range(5,15):\r\n",
        "  A = random_matriz_cuadrada(i)\r\n",
        "  print(fuerza_bruta(A))\r\n",
        "  ramificacion_y_poda(A)"
      ],
      "execution_count": 14,
      "outputs": [
        {
          "output_type": "stream",
          "text": [
            "(30, (0, 3, 1, 2, 4))\n",
            "La solucion final es: [{'s': (0, 2, 3, 1, 4), 'ci': 30}]  en  13  iteraciones  para dimension:  5\n",
            "(22, (1, 0, 2, 5, 3, 4))\n",
            "La solucion final es: [{'s': (1, 0, 4, 2, 5, 3), 'ci': 22}]  en  206  iteraciones  para dimension:  6\n",
            "(21, (5, 4, 0, 3, 2, 1, 6))\n",
            "La solucion final es: [{'s': (0, 5, 6, 1, 3, 2, 4), 'ci': 27}]  en  111  iteraciones  para dimension:  7\n",
            "(29, (5, 1, 0, 7, 2, 6, 3, 4))\n",
            "La solucion final es: [{'s': (2, 1, 3, 6, 7, 0, 5, 4), 'ci': 31}]  en  338  iteraciones  para dimension:  8\n",
            "(21, (0, 6, 5, 8, 7, 3, 1, 4, 2))\n",
            "La solucion final es: [{'s': (3, 6, 1, 5, 8, 2, 0, 4, 7), 'ci': 34}]  en  8254  iteraciones  para dimension:  9\n",
            "(15, (0, 4, 5, 9, 8, 2, 7, 1, 6, 3))\n",
            "La solucion final es: [{'s': (0, 7, 5, 9, 1, 2, 8, 6, 4, 3), 'ci': 15}]  en  470  iteraciones  para dimension:  10\n"
          ],
          "name": "stdout"
        },
        {
          "output_type": "error",
          "ename": "KeyboardInterrupt",
          "evalue": "ignored",
          "traceback": [
            "\u001b[0;31m---------------------------------------------------------------------------\u001b[0m",
            "\u001b[0;31mKeyboardInterrupt\u001b[0m                         Traceback (most recent call last)",
            "\u001b[0;32m<ipython-input-14-a32792822069>\u001b[0m in \u001b[0;36m<module>\u001b[0;34m()\u001b[0m\n\u001b[1;32m      9\u001b[0m \u001b[0;32mfor\u001b[0m \u001b[0mi\u001b[0m \u001b[0;32min\u001b[0m \u001b[0mrange\u001b[0m\u001b[0;34m(\u001b[0m\u001b[0;36m5\u001b[0m\u001b[0;34m,\u001b[0m\u001b[0;36m15\u001b[0m\u001b[0;34m)\u001b[0m\u001b[0;34m:\u001b[0m\u001b[0;34m\u001b[0m\u001b[0;34m\u001b[0m\u001b[0m\n\u001b[1;32m     10\u001b[0m   \u001b[0mA\u001b[0m \u001b[0;34m=\u001b[0m \u001b[0mrandom_matriz_cuadrada\u001b[0m\u001b[0;34m(\u001b[0m\u001b[0mi\u001b[0m\u001b[0;34m)\u001b[0m\u001b[0;34m\u001b[0m\u001b[0;34m\u001b[0m\u001b[0m\n\u001b[0;32m---> 11\u001b[0;31m   \u001b[0mprint\u001b[0m\u001b[0;34m(\u001b[0m\u001b[0mfuerza_bruta\u001b[0m\u001b[0;34m(\u001b[0m\u001b[0mA\u001b[0m\u001b[0;34m)\u001b[0m\u001b[0;34m)\u001b[0m\u001b[0;34m\u001b[0m\u001b[0;34m\u001b[0m\u001b[0m\n\u001b[0m\u001b[1;32m     12\u001b[0m   \u001b[0mramificacion_y_poda\u001b[0m\u001b[0;34m(\u001b[0m\u001b[0mA\u001b[0m\u001b[0;34m)\u001b[0m\u001b[0;34m\u001b[0m\u001b[0;34m\u001b[0m\u001b[0m\n\u001b[1;32m     13\u001b[0m \u001b[0;34m\u001b[0m\u001b[0m\n",
            "\u001b[0;32m<ipython-input-12-c1389d6e751a>\u001b[0m in \u001b[0;36mfuerza_bruta\u001b[0;34m(tabla_de_costes)\u001b[0m\n\u001b[1;32m      3\u001b[0m   \u001b[0msolucion\u001b[0m\u001b[0;34m=\u001b[0m\u001b[0;34m(\u001b[0m\u001b[0;34m)\u001b[0m\u001b[0;34m\u001b[0m\u001b[0;34m\u001b[0m\u001b[0m\n\u001b[1;32m      4\u001b[0m   \u001b[0;32mfor\u001b[0m \u001b[0ms\u001b[0m \u001b[0;32min\u001b[0m \u001b[0mlist\u001b[0m\u001b[0;34m(\u001b[0m\u001b[0mitertools\u001b[0m\u001b[0;34m.\u001b[0m\u001b[0mpermutations\u001b[0m\u001b[0;34m(\u001b[0m\u001b[0mrange\u001b[0m\u001b[0;34m(\u001b[0m\u001b[0mlen\u001b[0m\u001b[0;34m(\u001b[0m\u001b[0mtabla_de_costes\u001b[0m\u001b[0;34m)\u001b[0m\u001b[0;34m)\u001b[0m\u001b[0;34m)\u001b[0m\u001b[0;34m)\u001b[0m\u001b[0;34m:\u001b[0m\u001b[0;34m\u001b[0m\u001b[0;34m\u001b[0m\u001b[0m\n\u001b[0;32m----> 5\u001b[0;31m     \u001b[0mtemp\u001b[0m\u001b[0;34m=\u001b[0m\u001b[0mcalcular_valor\u001b[0m\u001b[0;34m(\u001b[0m\u001b[0ms\u001b[0m\u001b[0;34m,\u001b[0m\u001b[0mtabla_de_costes\u001b[0m\u001b[0;34m)\u001b[0m\u001b[0;34m\u001b[0m\u001b[0;34m\u001b[0m\u001b[0m\n\u001b[0m\u001b[1;32m      6\u001b[0m     \u001b[0;32mif\u001b[0m \u001b[0mtemp\u001b[0m\u001b[0;34m<\u001b[0m\u001b[0mresultado\u001b[0m\u001b[0;34m:\u001b[0m\u001b[0;34m\u001b[0m\u001b[0;34m\u001b[0m\u001b[0m\n\u001b[1;32m      7\u001b[0m       \u001b[0mresultado\u001b[0m\u001b[0;34m=\u001b[0m\u001b[0mtemp\u001b[0m\u001b[0;34m\u001b[0m\u001b[0;34m\u001b[0m\u001b[0m\n",
            "\u001b[0;32m<ipython-input-4-7e3d8278b73a>\u001b[0m in \u001b[0;36mcalcular_valor\u001b[0;34m(solucion_parcial, tabla_coste)\u001b[0m\n\u001b[1;32m      7\u001b[0m   \u001b[0mvalor\u001b[0m \u001b[0;34m=\u001b[0m \u001b[0;36m0\u001b[0m\u001b[0;34m\u001b[0m\u001b[0;34m\u001b[0m\u001b[0m\n\u001b[1;32m      8\u001b[0m   \u001b[0;32mfor\u001b[0m \u001b[0mi\u001b[0m \u001b[0;32min\u001b[0m \u001b[0mrange\u001b[0m\u001b[0;34m(\u001b[0m\u001b[0mlen\u001b[0m\u001b[0;34m(\u001b[0m\u001b[0msolucion_parcial\u001b[0m\u001b[0;34m)\u001b[0m\u001b[0;34m)\u001b[0m\u001b[0;34m:\u001b[0m\u001b[0;34m\u001b[0m\u001b[0;34m\u001b[0m\u001b[0m\n\u001b[0;32m----> 9\u001b[0;31m     \u001b[0mvalor\u001b[0m \u001b[0;34m+=\u001b[0m \u001b[0mtabla_coste\u001b[0m\u001b[0;34m[\u001b[0m\u001b[0msolucion_parcial\u001b[0m\u001b[0;34m[\u001b[0m\u001b[0mi\u001b[0m\u001b[0;34m]\u001b[0m\u001b[0;34m]\u001b[0m\u001b[0;34m[\u001b[0m\u001b[0mi\u001b[0m\u001b[0;34m]\u001b[0m\u001b[0;34m\u001b[0m\u001b[0;34m\u001b[0m\u001b[0m\n\u001b[0m\u001b[1;32m     10\u001b[0m   \u001b[0;32mreturn\u001b[0m \u001b[0mvalor\u001b[0m\u001b[0;34m\u001b[0m\u001b[0;34m\u001b[0m\u001b[0m\n\u001b[1;32m     11\u001b[0m \u001b[0;34m\u001b[0m\u001b[0m\n",
            "\u001b[0;31mKeyboardInterrupt\u001b[0m: "
          ]
        }
      ]
    },
    {
      "cell_type": "markdown",
      "metadata": {
        "id": "xahyk8lPnwgt"
      },
      "source": [
        "fuerza bruta deja de ser una opcion a partir de n>10 ya que se cosume toda la ran disponible"
      ]
    },
    {
      "cell_type": "markdown",
      "metadata": {
        "id": "180329G-pQee"
      },
      "source": [
        "aparentemente el limite de ramificacion y poda esta para n>14"
      ]
    },
    {
      "cell_type": "markdown",
      "metadata": {
        "id": "hOYQ4p_iGQ5d"
      },
      "source": [
        "##Descenso del gradiente"
      ]
    },
    {
      "cell_type": "code",
      "metadata": {
        "colab": {
          "base_uri": "https://localhost:8080/",
          "height": 286
        },
        "id": "L4U2KlsNGP8v",
        "outputId": "3f0f1fd3-259f-4e77-a418-f1dfcc878c49"
      },
      "source": [
        "import math                      #Funciones matematicas\r\n",
        "import matplotlib.pyplot as plt  #Generacion de gráficos (otra opcion seaborn)\r\n",
        "import numpy as np               #Tratamiento matriz N-dimensionales y otras (fundamental!) \r\n",
        "import random\r\n",
        "\r\n",
        "#Definimos la funcion\r\n",
        "#Paraboloide\r\n",
        "f  = lambda X:      X[0]**2+X[1]**2      #Funcion\r\n",
        "df = lambda X: [2*X[0] , 2*X[1]]         #Gradiente\r\n",
        "\r\n",
        "#Prepara los datos para dibujar mapa de niveles de Z\r\n",
        "resolucion = 100 \r\n",
        "rango=1.5\r\n",
        "X=np.linspace(-rango,rango,resolucion) \r\n",
        "Y=np.linspace(-rango,rango,resolucion)\r\n",
        "Z=np.zeros((resolucion,resolucion))\r\n",
        "for ix,x in enumerate(X):\r\n",
        "  for iy,y in enumerate(Y):\r\n",
        "    Z[iy,ix] = f([x,y])\r\n",
        "\r\n",
        "#Pinta el mapa de niveles de Z\r\n",
        "plt.contourf(X,Y,Z,resolucion)\r\n",
        "plt.colorbar() \r\n",
        "\r\n",
        "#Generamos un punto aleatorio\r\n",
        "P=[random.uniform(-2,2  ),random.uniform(-2,2 ) ]\r\n",
        "plt.plot(P[0],P[1],\"o\",c=\"white\")\r\n",
        "\r\n",
        "#Tasa de aprendizaje\r\n",
        "TA=.1 \r\n",
        "\r\n",
        "#Iteraciones\r\n",
        "for _ in range(500):\r\n",
        "  grad = df(P)\r\n",
        "  #print(P,grad)\r\n",
        "  P[0],P[1] = P[0] - TA*grad[0] , P[1] - TA*grad[1]\r\n",
        "  plt.plot(P[0],P[1],\"o\",c=\"red\")\r\n",
        "\r\n",
        "plt.plot(P[0],P[1],\"o\",c=\"green\")\r\n",
        "plt.show()\r\n",
        "print(\"Solucion:\" , P , f(P))"
      ],
      "execution_count": 7,
      "outputs": [
        {
          "output_type": "display_data",
          "data": {
            "image/png": "[encoded data removed]",
            "text/plain": [
              "<Figure size 432x288 with 2 Axes>"
            ]
          },
          "metadata": {
            "tags": [],
            "needs_background": "light"
          }
        },
        {
          "output_type": "stream",
          "text": [
            "Solucion: [-8.674318978911767e-50, -5.352085511789493e-49] 2.9397257422986087e-97\n"
          ],
          "name": "stdout"
        }
      ]
    }
  ]
}