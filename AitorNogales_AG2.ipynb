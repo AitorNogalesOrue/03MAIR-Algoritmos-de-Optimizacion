{
  "nbformat": 4,
  "nbformat_minor": 0,
  "metadata": {
    "colab": {
      "name": "AitorNogales-AG2.ipynb",
      "provenance": [],
      "collapsed_sections": [],
      "toc_visible": true,
      "authorship_tag": "ABX9TyO/mMJxdTkGj7tY3k9qVdPb",
      "include_colab_link": true
    },
    "kernelspec": {
      "name": "python3",
      "display_name": "Python 3"
    }
  },
  "cells": [
    {
      "cell_type": "markdown",
      "metadata": {
        "id": "view-in-github",
        "colab_type": "text"
      },
      "source": [
        "<a href=\"https://colab.research.google.com/github/Whanhoo/03MAIR-Algoritmos-de-Optimizacion/blob/main/AitorNogales_AG2.ipynb\" target=\"_parent\"><img src=\"https://colab.research.google.com/assets/colab-badge.svg\" alt=\"Open In Colab\"/></a>"
      ]
    },
    {
      "cell_type": "markdown",
      "metadata": {
        "id": "SS5FidHj1xZx"
      },
      "source": [
        "# Actividad guida 2 (AG1)\r\n",
        "\r\n",
        "Nombre: *Aitor Nogales Orue*\r\n",
        "\r\n",
        " URL: [https://colab.research.google.com/drive/1Zd-VvU1i4K435aj7792kgukGzq6pHxIB?usp=sharing](https://colab.research.google.com/drive/1Zd-VvU1i4K435aj7792kgukGzq6pHxIB?usp=sharing)\r\n",
        "\r\n",
        " GitHub: [https://github.com/Whanhoo/03MAIR-Algoritmos-de-Optimizacion.git](https://github.com/Whanhoo/03MAIR-Algoritmos-de-Optimizacion.git)"
      ]
    },
    {
      "cell_type": "code",
      "metadata": {
        "id": "lBVguXSx2TsR"
      },
      "source": [
        "import math"
      ],
      "execution_count": null,
      "outputs": []
    },
    {
      "cell_type": "markdown",
      "metadata": {
        "id": "4Ts8EL5g2UOA"
      },
      "source": [
        "##Viaje por el rio\r\n",
        "programacion dinamica "
      ]
    },
    {
      "cell_type": "code",
      "metadata": {
        "colab": {
          "base_uri": "https://localhost:8080/"
        },
        "id": "e1-iBKZA2X5A",
        "outputId": "521db671-ed0f-47ad-c307-b174a90935b8"
      },
      "source": [
        "tarifas = [\r\n",
        "[0,5,4,3,9999,9999,9999],      #desde nodo 0\r\n",
        "[9999,0,9999,2,3,9999,11],     #desde nodo 1\r\n",
        "[9999,9999, 0,1,9999,4,10],    #desde nodo 2\r\n",
        "[9999,9999,9999, 0,5,6,9],     #desde nodo 3\r\n",
        "[9999,9999, 9999,9999,0,9999,4], #desde nodo 4\r\n",
        "[9999,9999, 9999,9999,9999,0,3], #desde nodo 5\r\n",
        "[9999,9999,9999,9999,9999,9999,0] #desde nodo 6\r\n",
        "]\r\n",
        "def precios_descenso_rio(matriz_tarifas):\r\n",
        "\r\n",
        "  total_nodos = len(matriz_tarifas[0])\r\n",
        "\r\n",
        "  #Inicialización de la tabla de precios\r\n",
        "  precios = [ [9999]*total_nodos for i in [9999]*total_nodos]\r\n",
        "  ruta = [ [\"\"]*total_nodos for i in [\"\"]*total_nodos]\r\n",
        "  \r\n",
        "  for i in range(total_nodos-1):\r\n",
        "    for j in range(i+1, total_nodos):\r\n",
        "      minimo = matriz_tarifas[i][j]\r\n",
        "      ruta[i][j] = i\r\n",
        "      \r\n",
        "      for k in range(i, j):\r\n",
        "        if precios[i][k] + matriz_tarifas[k][j] < minimo:\r\n",
        "            minimo = min(minimo, precios[i][k] + matriz_tarifas[k][j] )\r\n",
        "            ruta[i][j] = k\r\n",
        "        precios[i][j] = minimo\r\n",
        "        \r\n",
        "  return precios,ruta\r\n",
        "\r\n",
        "PRECIOS,RUTA = precios_descenso_rio(tarifas)  \r\n",
        "print(PRECIOS[0][6])\r\n",
        "\r\n",
        "print(\"PRECIOS\")\r\n",
        "for i in range(len(tarifas)):\r\n",
        "  print(PRECIOS[i])\r\n",
        "\r\n",
        "print(\"\\nRUTA\")  \r\n",
        "for i in range(len(tarifas)):\r\n",
        "  print(RUTA[i]) \r\n",
        "\r\n",
        "def calcular_ruta(RUTA, desde, hasta):\r\n",
        "  if desde == hasta:\r\n",
        "    print(\"Ir a :\" + str(desde))\r\n",
        "    return desde \r\n",
        "  else:\r\n",
        "    return str(calcular_ruta(RUTA, desde, RUTA[desde][hasta])) +  ',' + str(RUTA[desde][hasta]) "
      ],
      "execution_count": 8,
      "outputs": [
        {
          "output_type": "stream",
          "text": [
            "11\n",
            "PRECIOS\n",
            "[9999, 5, 4, 3, 8, 8, 11]\n",
            "[9999, 9999, 999, 2, 3, 8, 7]\n",
            "[9999, 9999, 9999, 1, 6, 4, 7]\n",
            "[9999, 9999, 9999, 9999, 5, 6, 9]\n",
            "[9999, 9999, 9999, 9999, 9999, 999, 4]\n",
            "[9999, 9999, 9999, 9999, 9999, 9999, 3]\n",
            "[9999, 9999, 9999, 9999, 9999, 9999, 9999]\n",
            "\n",
            "RUTA\n",
            "['', 0, 0, 0, 1, 2, 5]\n",
            "['', '', 1, 1, 1, 3, 4]\n",
            "['', '', '', 2, 3, 2, 5]\n",
            "['', '', '', '', 3, 3, 3]\n",
            "['', '', '', '', '', 4, 4]\n",
            "['', '', '', '', '', '', 5]\n",
            "['', '', '', '', '', '', '']\n"
          ],
          "name": "stdout"
        }
      ]
    },
    {
      "cell_type": "markdown",
      "metadata": {
        "id": "TPWAmtXD90xQ"
      },
      "source": [
        "##Problema de Asignacion de tarea\r\n",
        "Ramificacion y poda "
      ]
    },
    {
      "cell_type": "code",
      "metadata": {
        "colab": {
          "base_uri": "https://localhost:8080/"
        },
        "id": "-iw3-OCI-G9_",
        "outputId": "09b5e6f7-e79a-4c28-8550-c712561982b7"
      },
      "source": [
        "tabla_de_costes=[[11,12,18,40],\r\n",
        "                 [14,15,13,22],\r\n",
        "                 [11,17,19,23],\r\n",
        "                 [17,14,20,28]]\r\n",
        "\r\n",
        "def calcular_valor(solucion_parcial,tabla_coste):\r\n",
        "  valor = 0\r\n",
        "  for i in range(len(solucion_parcial)):\r\n",
        "    valor += tabla_coste[solucion_parcial[i]][i] \r\n",
        "  return valor\r\n",
        "  \r\n",
        "calcular_valor((0, 1, 2, 3),tabla_de_costes)\r\n",
        "\r\n",
        "def CI(S,COSTES):\r\n",
        "  VALOR = 0\r\n",
        "  #Valores establecidos\r\n",
        "  for i in range(len(S)):\r\n",
        "    VALOR += COSTES[i][S[i]]\r\n",
        "\r\n",
        "  #Estimacion\r\n",
        "  for i in range( len(S), len(COSTES)   ):\r\n",
        "    VALOR += min( [ COSTES[j][i] for j in range(len(S), len(COSTES))  ])\r\n",
        "  return VALOR\r\n",
        "\r\n",
        "def CS(S,COSTES):\r\n",
        "  VALOR = 0\r\n",
        "  #Valores establecidos\r\n",
        "  for i in range(len(S)):\r\n",
        "    VALOR += COSTES[i][S[i]]\r\n",
        "\r\n",
        "  #Estimacion\r\n",
        "  for i in range( len(S), len(COSTES)   ):\r\n",
        "    VALOR += max( [ COSTES[j][i] for j in range(len(S), len(COSTES))  ])\r\n",
        "  return VALOR\r\n",
        "\r\n",
        "CS((0,1),COSTES)\r\n",
        "\r\n",
        "def crear_hijos(NODO, N):\r\n",
        "  HIJOS = []\r\n",
        "  for i in range(N ):\r\n",
        "    if i not in NODO:\r\n",
        "      HIJOS.append({'s':NODO +(i,)    })\r\n",
        "  return HIJOS\r\n",
        "\r\n",
        "def ramificacion_y_poda(COSTES):\r\n",
        "\r\n",
        "  DIMENSION = len(COSTES)  \r\n",
        "  MEJOR_SOLUCION=tuple( i for i in range(len(COSTES)) )\r\n",
        "  CotaSup = valor(MEJOR_SOLUCION,COSTES)\r\n",
        "  #print(\"Cota Superior:\", CotaSup)\r\n",
        "\r\n",
        "  NODOS=[]\r\n",
        "  NODOS.append({'s':(), 'ci':CI((),COSTES)    } )\r\n",
        "\r\n",
        "  iteracion = 0\r\n",
        "\r\n",
        "  while( len(NODOS) > 0):\r\n",
        "    iteracion +=1\r\n",
        "\r\n",
        "    nodo_prometedor = [ min(NODOS, key=lambda x:x['ci']) ][0]['s']\r\n",
        "    #print(\"Nodo prometedor:\", nodo_prometedor)\r\n",
        "\r\n",
        "    #Ramificacion\r\n",
        "    #Se generan los hijos\r\n",
        "    HIJOS =[ {'s':x['s'], 'ci':CI(x['s'], COSTES)   } for x in crear_hijos(nodo_prometedor, DIMENSION) ]\r\n",
        "\r\n",
        "    #Revisamos la cota superior y nos quedamos con la mejor solucion si llegamos a una solucion final\r\n",
        "    NODO_FINAL = [x for x in HIJOS if len(x['s']) == DIMENSION  ]\r\n",
        "    if len(NODO_FINAL ) >0: \r\n",
        "      #print(\"\\n********Soluciones:\",  [x for x in HIJOS if len(x['s']) == DIMENSION  ] )\r\n",
        "      if NODO_FINAL[0]['ci'] < CotaSup:\r\n",
        "        CotaSup = NODO_FINAL[0]['ci']\r\n",
        "        MEJOR_SOLUCION = NODO_FINAL\r\n",
        " \r\n",
        "    #Poda\r\n",
        "    HIJOS = [x for x in HIJOS if x['ci'] < CotaSup   ]\r\n",
        "\r\n",
        "    #Añadimos los hijos \r\n",
        "    NODOS.extend(HIJOS) \r\n",
        "\r\n",
        "    #Eliminamos el nodo ramificado\r\n",
        "    NODOS =  [  x for x in NODOS if x['s'] != nodo_prometedor    ]\r\n",
        "   \r\n",
        "  print(\"La solucion final es:\" ,MEJOR_SOLUCION , \" en \" , iteracion , \" iteraciones\" , \" para dimension: \" ,DIMENSION  )\r\n",
        "      \r\n",
        "\r\n",
        "\r\n",
        "ramificacion_y_poda(COSTES)"
      ],
      "execution_count": 12,
      "outputs": [
        {
          "output_type": "execute_result",
          "data": {
            "text/plain": [
              "73"
            ]
          },
          "metadata": {
            "tags": []
          },
          "execution_count": 12
        }
      ]
    },
    {
      "cell_type": "markdown",
      "metadata": {
        "id": "hOYQ4p_iGQ5d"
      },
      "source": [
        "##Descenso del gradiente"
      ]
    },
    {
      "cell_type": "code",
      "metadata": {
        "colab": {
          "base_uri": "https://localhost:8080/",
          "height": 282
        },
        "id": "L4U2KlsNGP8v",
        "outputId": "e2438651-1897-4441-a259-a4d4c6d87c67"
      },
      "source": [
        "import math                      #Funciones matematicas\r\n",
        "import matplotlib.pyplot as plt  #Generacion de gráficos (otra opcion seaborn)\r\n",
        "import numpy as np               #Tratamiento matriz N-dimensionales y otras (fundamental!) \r\n",
        "import random\r\n",
        "\r\n",
        "#Definimos la funcion\r\n",
        "#Paraboloide\r\n",
        "f  = lambda X:      X[0]**2+X[1]**2      #Funcion\r\n",
        "df = lambda X: [2*X[0] , 2*X[1]]         #Gradiente\r\n",
        "\r\n",
        "#Prepara los datos para dibujar mapa de niveles de Z\r\n",
        "resolucion = 100 \r\n",
        "rango=2.5\r\n",
        "X=np.linspace(-rango,rango,resolucion) \r\n",
        "Y=np.linspace(-rango,rango,resolucion)\r\n",
        "Z=np.zeros((resolucion,resolucion))\r\n",
        "for ix,x in enumerate(X):\r\n",
        "  for iy,y in enumerate(Y):\r\n",
        "    Z[iy,ix] = f([x,y])\r\n",
        "\r\n",
        "#Pinta el mapa de niveles de Z\r\n",
        "plt.contourf(X,Y,Z,resolucion)\r\n",
        "plt.colorbar() \r\n",
        "\r\n",
        "#Generamos un punto aleatorio\r\n",
        "P=[random.uniform(-2,2  ),random.uniform(-2,2 ) ]\r\n",
        "plt.plot(P[0],P[1],\"o\",c=\"white\")\r\n",
        "\r\n",
        "#Tasa de aprendizaje\r\n",
        "TA=.1 \r\n",
        "\r\n",
        "#Iteraciones\r\n",
        "for _ in range(500):\r\n",
        "  grad = df(P)\r\n",
        "  #print(P,grad)\r\n",
        "  P[0],P[1] = P[0] - TA*grad[0] , P[1] - TA*grad[1]\r\n",
        "  plt.plot(P[0],P[1],\"o\",c=\"red\")\r\n",
        "\r\n",
        "plt.plot(P[0],P[1],\"o\",c=\"green\")\r\n",
        "plt.show()\r\n",
        "print(\"Solucion:\" , P , f(P))"
      ],
      "execution_count": 13,
      "outputs": [
        {
          "output_type": "display_data",
          "data": {
            "image/png": "[encoded data removed]",
            "text/plain": [
              "<Figure size 432x288 with 2 Axes>"
            ]
          },
          "metadata": {
            "tags": [],
            "needs_background": "light"
          }
        },
        {
          "output_type": "stream",
          "text": [
            "Solucion: [-1.6326579385078464e-49, -2.597780552518568e-50] 2.7330565821631272e-98\n"
          ],
          "name": "stdout"
        }
      ]
    }
  ]
}