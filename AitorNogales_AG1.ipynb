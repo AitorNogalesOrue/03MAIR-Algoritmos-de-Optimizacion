{
  "nbformat": 4,
  "nbformat_minor": 0,
  "metadata": {
    "colab": {
      "name": "AitorNogales-AG1.ipynb",
      "provenance": [],
      "collapsed_sections": [],
      "toc_visible": true,
      "authorship_tag": "ABX9TyN9FoZbGdsnxHIZ66cKnuB/",
      "include_colab_link": true
    },
    "kernelspec": {
      "name": "python3",
      "display_name": "Python 3"
    }
  },
  "cells": [
    {
      "cell_type": "markdown",
      "metadata": {
        "id": "view-in-github",
        "colab_type": "text"
      },
      "source": [
        "<a href=\"https://colab.research.google.com/github/Whanhoo/03MAIR-Algoritmos-de-Optimizacion/blob/main/AitorNogales_AG1.ipynb\" target=\"_parent\"><img src=\"https://colab.research.google.com/assets/colab-badge.svg\" alt=\"Open In Colab\"/></a>"
      ]
    },
    {
      "cell_type": "markdown",
      "metadata": {
        "id": "eQwoYUCzqMg-"
      },
      "source": [
        "# Actividad guida 1 (AG1)\r\n",
        "\r\n",
        "Nombre: *Aitor Nogales Orue*\r\n",
        "\r\n",
        " URL: [https://colab.research.google.com/drive/1nY0wWenKkdzj4X_bLr7bk5u9MlLY1AGa?usp=sharing](https://colab.research.google.com/drive/1nY0wWenKkdzj4X_bLr7bk5u9MlLY1AGa?usp=sharing)\r\n",
        "\r\n",
        " GitHub: [https://github.com/Whanhoo/03MAIR-Algoritmos-de-Optimizacion.git](https://github.com/Whanhoo/03MAIR-Algoritmos-de-Optimizacion.git)"
      ]
    },
    {
      "cell_type": "markdown",
      "metadata": {
        "id": "cFgEoga8vXn0"
      },
      "source": [
        "### Torres de hanoi con Divide y Venceras"
      ]
    },
    {
      "cell_type": "code",
      "metadata": {
        "colab": {
          "base_uri": "https://localhost:8080/"
        },
        "id": "XKRSuRHon2JL",
        "outputId": "0dfc3f19-027f-47ef-84ed-fb3f25483b5d"
      },
      "source": [
        "def torres_hanoi(N,desde,hasta):\r\n",
        "  if N==1:\r\n",
        "    print(\"Lleva la ficha desde\", desde, \"hasta\" , hasta)\r\n",
        "  else: \r\n",
        "    torres_hanoi(N-1,desde, 6-desde-hasta)\r\n",
        "    print(\"Lleva la ficha desde\", desde, \"hasta\" , hasta)\r\n",
        "    torres_hanoi(N-1,6-desde-hasta,hasta)\r\n",
        "\r\n",
        "torres_hanoi(3,1,3)"
      ],
      "execution_count": 16,
      "outputs": [
        {
          "output_type": "stream",
          "text": [
            "Lleva la ficha desde 1 hasta 3\n",
            "Lleva la ficha desde 1 hasta 2\n",
            "Lleva la ficha desde 3 hasta 2\n",
            "Lleva la ficha desde 1 hasta 3\n",
            "Lleva la ficha desde 2 hasta 1\n",
            "Lleva la ficha desde 2 hasta 3\n",
            "Lleva la ficha desde 1 hasta 3\n"
          ],
          "name": "stdout"
        }
      ]
    },
    {
      "cell_type": "markdown",
      "metadata": {
        "id": "OFh57j1H5Bod"
      },
      "source": [
        "### Devolución de cambio por Tecnica Voraz"
      ]
    },
    {
      "cell_type": "code",
      "metadata": {
        "colab": {
          "base_uri": "https://localhost:8080/"
        },
        "id": "93M3MvFe6Zz2",
        "outputId": "2095649a-261d-4f77-8b36-f91a5fea380f"
      },
      "source": [
        "def cambio_monedas(sis, val):\r\n",
        "  rest=val\r\n",
        "  i = 0\r\n",
        "  cambio=[0]*len(sis)\r\n",
        " \r\n",
        "  while rest > 0:\r\n",
        "    cambio[i]=rest // sis[i]\r\n",
        "    rest %= sis[i]\r\n",
        "    i+=1\r\n",
        "  \r\n",
        "  return cambio\r\n",
        "\r\n",
        "sistema_monetario= [25,10,5,1]\r\n",
        "print(cambio_monedas(sistema_monetario,137))"
      ],
      "execution_count": 21,
      "outputs": [
        {
          "output_type": "stream",
          "text": [
            "12\n",
            "2\n",
            "2\n",
            "0\n",
            "[5, 1, 0, 2]\n"
          ],
          "name": "stdout"
        }
      ]
    },
    {
      "cell_type": "markdown",
      "metadata": {
        "id": "hrfJeOoQ_Lxb"
      },
      "source": [
        "### N - Reinas con tecnica de Backtraking "
      ]
    },
    {
      "cell_type": "code",
      "metadata": {
        "colab": {
          "base_uri": "https://localhost:8080/"
        },
        "id": "-yhBOmbb_JZh",
        "outputId": "e370106c-7b48-4e39-dfab-67cf873c6599"
      },
      "source": [
        "def es_prometedora(solucion,etapa):\r\n",
        "  for i in range(etapa+1):\r\n",
        "    if solucion.count(solucion[i]) > 1:       \r\n",
        "      return False\r\n",
        "\r\n",
        "  for j in range(i+1, etapa +1):\r\n",
        "    if abs(i-j) == abs(solucion[i]-solucion[j]) : \r\n",
        "      return False\r\n",
        "\r\n",
        "  return True\r\n",
        "\r\n",
        "def reinas(N, solucion=[], etapa=0):\r\n",
        "  if len(solucion)==0:\r\n",
        "    solucion= [0]*N\r\n",
        "  for i in range(1,N+1):\r\n",
        "    solucion[etapa] = i\r\n",
        "    if es_prometedora(solucion,etapa):\r\n",
        "      if etapa == N-1:\r\n",
        "        escribe(solucion)\r\n",
        "        print ('\\n____________')\r\n",
        "      else:\r\n",
        "        reinas(N,solucion,etapa+1)\r\n",
        "\r\n",
        "    solucion[etapa] = 0\r\n",
        "\r\n",
        "def escribe(S):\r\n",
        "  n = len(S)\r\n",
        "  for x in range(n):\r\n",
        "    print(\"\")\r\n",
        "    for i in range(n):\r\n",
        "      if S[i] == x+1:\r\n",
        "        print(\" X \" , end=\"\")\r\n",
        "      else:\r\n",
        "        print(\" - \", end=\"\")\r\n",
        "\r\n",
        "reinas(4)"
      ],
      "execution_count": 32,
      "outputs": [
        {
          "output_type": "stream",
          "text": [
            "\n",
            " X  -  -  - \n",
            " -  X  -  - \n",
            " -  -  X  - \n",
            " -  -  -  X \n",
            "____________\n",
            "\n",
            " X  -  -  - \n",
            " -  X  -  - \n",
            " -  -  -  X \n",
            " -  -  X  - \n",
            "____________\n",
            "\n",
            " X  -  -  - \n",
            " -  -  X  - \n",
            " -  X  -  - \n",
            " -  -  -  X \n",
            "____________\n",
            "\n",
            " X  -  -  - \n",
            " -  -  -  X \n",
            " -  X  -  - \n",
            " -  -  X  - \n",
            "____________\n",
            "\n",
            " X  -  -  - \n",
            " -  -  X  - \n",
            " -  -  -  X \n",
            " -  X  -  - \n",
            "____________\n",
            "\n",
            " X  -  -  - \n",
            " -  -  -  X \n",
            " -  -  X  - \n",
            " -  X  -  - \n",
            "____________\n",
            "\n",
            " -  X  -  - \n",
            " X  -  -  - \n",
            " -  -  X  - \n",
            " -  -  -  X \n",
            "____________\n",
            "\n",
            " -  X  -  - \n",
            " X  -  -  - \n",
            " -  -  -  X \n",
            " -  -  X  - \n",
            "____________\n",
            "\n",
            " -  -  X  - \n",
            " X  -  -  - \n",
            " -  X  -  - \n",
            " -  -  -  X \n",
            "____________\n",
            "\n",
            " -  -  -  X \n",
            " X  -  -  - \n",
            " -  X  -  - \n",
            " -  -  X  - \n",
            "____________\n",
            "\n",
            " -  -  X  - \n",
            " X  -  -  - \n",
            " -  -  -  X \n",
            " -  X  -  - \n",
            "____________\n",
            "\n",
            " -  -  -  X \n",
            " X  -  -  - \n",
            " -  -  X  - \n",
            " -  X  -  - \n",
            "____________\n",
            "\n",
            " -  X  -  - \n",
            " -  -  X  - \n",
            " X  -  -  - \n",
            " -  -  -  X \n",
            "____________\n",
            "\n",
            " -  X  -  - \n",
            " -  -  -  X \n",
            " X  -  -  - \n",
            " -  -  X  - \n",
            "____________\n",
            "\n",
            " -  -  X  - \n",
            " -  X  -  - \n",
            " X  -  -  - \n",
            " -  -  -  X \n",
            "____________\n",
            "\n",
            " -  -  -  X \n",
            " -  X  -  - \n",
            " X  -  -  - \n",
            " -  -  X  - \n",
            "____________\n",
            "\n",
            " -  -  X  - \n",
            " -  -  -  X \n",
            " X  -  -  - \n",
            " -  X  -  - \n",
            "____________\n",
            "\n",
            " -  -  -  X \n",
            " -  -  X  - \n",
            " X  -  -  - \n",
            " -  X  -  - \n",
            "____________\n",
            "\n",
            " -  X  -  - \n",
            " -  -  X  - \n",
            " -  -  -  X \n",
            " X  -  -  - \n",
            "____________\n",
            "\n",
            " -  X  -  - \n",
            " -  -  -  X \n",
            " -  -  X  - \n",
            " X  -  -  - \n",
            "____________\n",
            "\n",
            " -  -  X  - \n",
            " -  X  -  - \n",
            " -  -  -  X \n",
            " X  -  -  - \n",
            "____________\n",
            "\n",
            " -  -  -  X \n",
            " -  X  -  - \n",
            " -  -  X  - \n",
            " X  -  -  - \n",
            "____________\n",
            "\n",
            " -  -  X  - \n",
            " -  -  -  X \n",
            " -  X  -  - \n",
            " X  -  -  - \n",
            "____________\n",
            "\n",
            " -  -  -  X \n",
            " -  -  X  - \n",
            " -  X  -  - \n",
            " X  -  -  - \n",
            "____________\n"
          ],
          "name": "stdout"
        }
      ]
    },
    {
      "cell_type": "markdown",
      "metadata": {
        "id": "EURCV85OFsje"
      },
      "source": [
        "### Encontrar los dos puntos mas cercanos "
      ]
    },
    {
      "cell_type": "code",
      "metadata": {
        "id": "qQpr893dF1CF"
      },
      "source": [
        ""
      ],
      "execution_count": null,
      "outputs": []
    }
  ]
}