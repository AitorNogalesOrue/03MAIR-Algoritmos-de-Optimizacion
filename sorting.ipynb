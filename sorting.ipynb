{
  "nbformat": 4,
  "nbformat_minor": 0,
  "metadata": {
    "colab": {
      "name": "sorting.ipynb",
      "provenance": [],
      "collapsed_sections": []
    },
    "kernelspec": {
      "name": "python3",
      "display_name": "Python 3"
    }
  },
  "cells": [
    {
      "cell_type": "markdown",
      "metadata": {
        "id": "A8xCjb0_qFDV"
      },
      "source": [
        "# Sorting\r\n",
        "Algunos algoritmos de sorting y comparativa de tiempo de ejecución "
      ]
    },
    {
      "cell_type": "code",
      "metadata": {
        "id": "27APKZwlr3kO"
      },
      "source": [
        "import numpy as np\r\n",
        "main_arr = np.random.randint(100, size=(5000))"
      ],
      "execution_count": 37,
      "outputs": []
    },
    {
      "cell_type": "markdown",
      "metadata": {
        "id": "DekY0Z-kmno2"
      },
      "source": [
        "## Selection Sort"
      ]
    },
    {
      "cell_type": "code",
      "metadata": {
        "id": "plpP1vRol9zj"
      },
      "source": [
        "def selection_sort(arr):\r\n",
        "  for i in range(len(arr)): \r\n",
        "      min = i \r\n",
        "      for j in range(i+1, len(arr)): \r\n",
        "          if arr[min] > arr[j]: \r\n",
        "              min = j        \r\n",
        "      arr[i], arr[min] = arr[min], arr[i] \r\n",
        "  return arr"
      ],
      "execution_count": 38,
      "outputs": []
    },
    {
      "cell_type": "code",
      "metadata": {
        "colab": {
          "base_uri": "https://localhost:8080/"
        },
        "id": "Vc2Q-5derws1",
        "outputId": "e953fc51-433b-43b1-dc36-a9302f5fec61"
      },
      "source": [
        "%%timeit\r\n",
        "selection_arr=main_arr[:]\r\n",
        "selection_arr=selection_sort(selection_arr)\r\n",
        " "
      ],
      "execution_count": 39,
      "outputs": [
        {
          "output_type": "stream",
          "text": [
            "1 loop, best of 3: 3.78 s per loop\n"
          ],
          "name": "stdout"
        }
      ]
    },
    {
      "cell_type": "markdown",
      "metadata": {
        "id": "-KBIouJpkqeB"
      },
      "source": [
        "## Bubble sort\r\n"
      ]
    },
    {
      "cell_type": "code",
      "metadata": {
        "id": "6x8DOqSWk430"
      },
      "source": [
        "def bubble_sort(arr): \r\n",
        "    n = len(arr)  \r\n",
        "    for i in range(n): \r\n",
        "        for j in range(0, n-i-1): \r\n",
        "            if arr[j] > arr[j+1] : \r\n",
        "                arr[j], arr[j+1] = arr[j+1], arr[j] \r\n",
        "    return arr\r\n",
        "    "
      ],
      "execution_count": 40,
      "outputs": []
    },
    {
      "cell_type": "code",
      "metadata": {
        "colab": {
          "base_uri": "https://localhost:8080/"
        },
        "id": "Up9AdANttG4W",
        "outputId": "46e4f34e-becf-4712-92e9-7472422bbb5b"
      },
      "source": [
        "%%timeit\r\n",
        "bubble_arr=main_arr[:]\r\n",
        "bubble_arr=bubble_sort(bubble_arr)"
      ],
      "execution_count": 41,
      "outputs": [
        {
          "output_type": "stream",
          "text": [
            "1 loop, best of 3: 3.82 s per loop\n"
          ],
          "name": "stdout"
        }
      ]
    },
    {
      "cell_type": "markdown",
      "metadata": {
        "id": "RrT6nyLbniYe"
      },
      "source": [
        "## Insertion Sort "
      ]
    },
    {
      "cell_type": "code",
      "metadata": {
        "id": "V32MABT6nmV8"
      },
      "source": [
        "def insertion_sort(arr): \r\n",
        "    for i in range(1, len(arr)): \r\n",
        "        A = arr[i] \r\n",
        "        j = i-1\r\n",
        "        while j >=0 and A < arr[j] : \r\n",
        "                arr[j+1] = arr[j] \r\n",
        "                j -= 1\r\n",
        "        arr[j+1] = A \r\n",
        "    return arr"
      ],
      "execution_count": 42,
      "outputs": []
    },
    {
      "cell_type": "code",
      "metadata": {
        "colab": {
          "base_uri": "https://localhost:8080/"
        },
        "id": "dA3ewtFAtN99",
        "outputId": "293a22c9-35e1-45f0-9c2d-17a65c17aab4"
      },
      "source": [
        "%%timeit\r\n",
        "insertion_arr=main_arr[:]\r\n",
        "insertion_arr=insertion_sort(insertion_arr)"
      ],
      "execution_count": 43,
      "outputs": [
        {
          "output_type": "stream",
          "text": [
            "100 loops, best of 3: 2.5 ms per loop\n"
          ],
          "name": "stdout"
        }
      ]
    },
    {
      "cell_type": "markdown",
      "metadata": {
        "id": "C4ZofXZ_z-yi"
      },
      "source": [
        "## Quick Sort"
      ]
    },
    {
      "cell_type": "markdown",
      "metadata": {
        "id": "GkpNfGJvrA0E"
      },
      "source": [
        "[www.geeksforgeeks.org/quick-sort/](https://www.geeksforgeeks.org/quick-sort/)"
      ]
    },
    {
      "cell_type": "code",
      "metadata": {
        "id": "aZgIX97WzZqD"
      },
      "source": [
        "def particion(arr, low, high):\n",
        "    i = low-1\n",
        "    pivote = arr[high]    \n",
        "    for j in range(low, high):\n",
        "        if arr[j] <= pivote:\n",
        "            i = i+1\n",
        "            arr[i], arr[j] = arr[j], arr[i]\n",
        "    arr[i+1], arr[high] = arr[high], arr[i+1]\n",
        "    return (i+1)\n",
        " \n",
        "def quick_sort(arr, low, high):\n",
        "    if len(arr) == 1:\n",
        "        return arr\n",
        "    if low < high:\n",
        "        pivote = particion(arr, low, high)\n",
        "        quick_sort(arr, low, pivote-1)\n",
        "        quick_sort(arr, pivote+1, high)\n"
      ],
      "execution_count": 44,
      "outputs": []
    },
    {
      "cell_type": "code",
      "metadata": {
        "colab": {
          "base_uri": "https://localhost:8080/"
        },
        "id": "LbJ0KQzwtT-7",
        "outputId": "1159db75-2f90-4a6e-82fd-bad5a330e0cf"
      },
      "source": [
        "%%timeit\r\n",
        "quick_arr=main_arr[:]\r\n",
        "#quick_sort(quick_arr,0,(len(quick_arr)-1))\r\n",
        "quick_arr.sort()"
      ],
      "execution_count": 45,
      "outputs": [
        {
          "output_type": "stream",
          "text": [
            "10000 loops, best of 3: 49.5 µs per loop\n"
          ],
          "name": "stdout"
        }
      ]
    },
    {
      "cell_type": "markdown",
      "metadata": {
        "id": "R979c1gQvWRl"
      },
      "source": [
        "El código de quick_sort me da un  \"maximum recursion depth\" el comando sort tambien usa quick sort pero esta implementado internamente "
      ]
    },
    {
      "cell_type": "markdown",
      "metadata": {
        "id": "dR0CWYZ-ofBt"
      },
      "source": [
        "## Merge sort"
      ]
    },
    {
      "cell_type": "markdown",
      "metadata": {
        "id": "23xdM5xOqV9m"
      },
      "source": [
        "[www.geeksforgeeks.org/merge-sort/](https://www.geeksforgeeks.org/merge-sort/)"
      ]
    },
    {
      "cell_type": "code",
      "metadata": {
        "id": "sL8t8j7Aoiq1"
      },
      "source": [
        "# This code is contributed by Mayank Khanna\r\n",
        "def mergeSort(arr):\r\n",
        "    if len(arr) > 1:\r\n",
        "        mid = len(arr)//2\r\n",
        "        L = arr[:mid]\r\n",
        "        R = arr[mid:]\r\n",
        "        mergeSort(L)\r\n",
        "        mergeSort(R)\r\n",
        "        i = j = k = 0\r\n",
        "\r\n",
        "        while i < len(L) and j < len(R):\r\n",
        "            if L[i] < R[j]:\r\n",
        "                arr[k] = L[i]\r\n",
        "                i += 1\r\n",
        "            else:\r\n",
        "                arr[k] = R[j]\r\n",
        "                j += 1\r\n",
        "            k += 1\r\n",
        "\r\n",
        "        while i < len(L):\r\n",
        "            arr[k] = L[i]\r\n",
        "            i += 1\r\n",
        "            k += 1\r\n",
        " \r\n",
        "        while j < len(R):\r\n",
        "            arr[k] = R[j]\r\n",
        "            j += 1\r\n",
        "            k += 1\r\n",
        "\r\n",
        "    return arr\r\n",
        "    "
      ],
      "execution_count": 46,
      "outputs": []
    },
    {
      "cell_type": "code",
      "metadata": {
        "colab": {
          "base_uri": "https://localhost:8080/"
        },
        "id": "1gSXF4astpjN",
        "outputId": "57c28b9c-c521-46aa-f0fa-b8055aadee54"
      },
      "source": [
        "%%timeit\r\n",
        "merge_arr=main_arr[:]\r\n",
        "merge_arr=mergeSort(merge_arr)"
      ],
      "execution_count": 47,
      "outputs": [
        {
          "output_type": "stream",
          "text": [
            "10 loops, best of 3: 38.4 ms per loop\n"
          ],
          "name": "stdout"
        }
      ]
    },
    {
      "cell_type": "markdown",
      "metadata": {
        "id": "CXNyCvM5pYbM"
      },
      "source": [
        "## Heap Sort"
      ]
    },
    {
      "cell_type": "markdown",
      "metadata": {
        "id": "_KSwds4iqljF"
      },
      "source": [
        "[www.geeksforgeeks.org/python-program-for-heap-sort/](https://www.geeksforgeeks.org/python-program-for-heap-sort/#:~:text=Heapsort%20is%20a%20comparison%20based,process%20for%20the%20remaining%20element.)"
      ]
    },
    {
      "cell_type": "code",
      "metadata": {
        "id": "DqfCZPEMpWkO"
      },
      "source": [
        "# To heapify subtree rooted at index i. \r\n",
        "# n is size of heap \r\n",
        "def heapify(arr, n, i): \r\n",
        "    largest = i  # Initialize largest as root \r\n",
        "    l = 2 * i + 1     # left = 2*i + 1 \r\n",
        "    r = 2 * i + 2     # right = 2*i + 2 \r\n",
        "  \r\n",
        "    # See if left child of root exists and is \r\n",
        "    # greater than root \r\n",
        "    if l < n and arr[i] < arr[l]: \r\n",
        "        largest = l \r\n",
        "  \r\n",
        "    # See if right child of root exists and is \r\n",
        "    # greater than root \r\n",
        "    if r < n and arr[largest] < arr[r]: \r\n",
        "        largest = r \r\n",
        "  \r\n",
        "    # Change root, if needed \r\n",
        "    if largest != i: \r\n",
        "        arr[i],arr[largest] = arr[largest],arr[i]  # swap \r\n",
        "  \r\n",
        "        # Heapify the root. \r\n",
        "        heapify(arr, n, largest) \r\n",
        "    return arr\r\n",
        "\r\n",
        "# The main function to sort an array of given size \r\n",
        "def heapSort(arr): \r\n",
        "    n = len(arr) \r\n",
        "  \r\n",
        "    # Build a maxheap. \r\n",
        "    # Since last parent will be at ((n//2)-1) we can start at that location. \r\n",
        "    for i in range(n // 2 - 1, -1, -1): \r\n",
        "        heapify(arr, n, i) \r\n",
        "  \r\n",
        "    # One by one extract elements \r\n",
        "    for i in range(n-1, 0, -1): \r\n",
        "        arr[i], arr[0] = arr[0], arr[i]   # swap \r\n",
        "        heapify(arr, i, 0) \r\n",
        "    \r\n",
        "    return arr\r\n",
        "\r\n",
        "# This code is contributed by Mayank Khanna\r\n",
        "    "
      ],
      "execution_count": 48,
      "outputs": []
    },
    {
      "cell_type": "code",
      "metadata": {
        "colab": {
          "base_uri": "https://localhost:8080/"
        },
        "id": "pGUGQZAvtxzf",
        "outputId": "92567878-8cc7-4c13-b35c-492e69a54153"
      },
      "source": [
        "%%timeit\r\n",
        "heap_arr=main_arr[:]\r\n",
        "heap_arr=heapSort(heap_arr)"
      ],
      "execution_count": 49,
      "outputs": [
        {
          "output_type": "stream",
          "text": [
            "10 loops, best of 3: 70.3 ms per loop\n"
          ],
          "name": "stdout"
        }
      ]
    }
  ]
}