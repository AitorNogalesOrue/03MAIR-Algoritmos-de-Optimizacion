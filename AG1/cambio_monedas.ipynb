{
  "nbformat": 4,
  "nbformat_minor": 0,
  "metadata": {
    "colab": {
      "name": "cambio_monedas.ipynb",
      "provenance": []
    },
    "kernelspec": {
      "name": "python3",
      "display_name": "Python 3"
    }
  },
  "cells": [
    {
      "cell_type": "markdown",
      "metadata": {
        "id": "DOtuXoBC7Pxj"
      },
      "source": [
        "Ejercicio de cambio de monedas"
      ]
    },
    {
      "cell_type": "code",
      "metadata": {
        "colab": {
          "base_uri": "https://localhost:8080/"
        },
        "id": "BT1PCBV57dn4",
        "outputId": "809f4f90-0089-4408-a593-fb55cf7d8604"
      },
      "source": [
        "\n",
        "def cambio_monedas(sis, val):\n",
        "  rest=val\n",
        "  i= len(sis)-1\n",
        "  cambio=[0]*(i+1)\n",
        " \n",
        "  while rest > 0:\n",
        "    cambio[i]=int(rest/ sis[i])\n",
        "    rest %= sis[i]\n",
        "    i-=1\n",
        "    \n",
        "  return cambio\n",
        "sistema_monetario= [1,2,5,10,20,50,100,200]\n",
        "print(cambio_monedas(sistema_monetario,125))"
      ],
      "execution_count": 19,
      "outputs": [
        {
          "output_type": "stream",
          "text": [
            "[0, 0, 1, 0, 1, 0, 1, 0]\n"
          ],
          "name": "stdout"
        }
      ]
    }
  ]
}